{
 "cells": [
  {
   "cell_type": "code",
   "execution_count": 1,
   "id": "7f4ae8db-e89f-4254-b7b0-805e032c828b",
   "metadata": {},
   "outputs": [],
   "source": [
    "import pandas as pd\n",
    "import numpy as np\n",
    "import matplotlib.pyplot as plt\n",
    "from sklearn.linear_model import LinearRegression\n",
    "from sklearn.model_selection import cross_val_score, KFold\n",
    "from sklearn.metrics import r2_score"
   ]
  },
  {
   "cell_type": "markdown",
   "id": "19b44d68-531d-44cc-b36a-ae5c3e196491",
   "metadata": {},
   "source": [
    "### 1. Load data"
   ]
  },
  {
   "cell_type": "code",
   "execution_count": 2,
   "id": "3b6d1d18-47a8-40c7-b483-f41f4043f266",
   "metadata": {},
   "outputs": [],
   "source": [
    "train = pd.read_csv(r\"C:\\Users\\YILMAZ\\Desktop\\train_fe_scaled.csv\")\n",
    "test = pd.read_csv(r\"C:\\Users\\YILMAZ\\Desktop\\train_fe_scaled.csv\")\n",
    "# scaled data sets were used"
   ]
  },
  {
   "cell_type": "markdown",
   "id": "2f9b450b-0135-4227-ad8a-a990d9d2621b",
   "metadata": {},
   "source": [
    "### 2. Define target and features"
   ]
  },
  {
   "cell_type": "code",
   "execution_count": 3,
   "id": "65f20989-4352-4897-bf97-726a39c583a8",
   "metadata": {},
   "outputs": [],
   "source": [
    "target = \"price_z\"\n",
    "X_train = train.drop(columns=[target])\n",
    "y_train = train[target]"
   ]
  },
  {
   "cell_type": "markdown",
   "id": "f1dba51f-9f33-4d7f-9dd1-e7a3d2fc5033",
   "metadata": {},
   "source": [
    "### 3. Initialize model"
   ]
  },
  {
   "cell_type": "code",
   "execution_count": 4,
   "id": "5a8be2ab-3083-4b7a-8c5e-2de7220b23ca",
   "metadata": {},
   "outputs": [],
   "source": [
    "lr_model = LinearRegression()"
   ]
  },
  {
   "cell_type": "markdown",
   "id": "e1a8e0d9-5cad-4df7-8771-fe1c958e8d1c",
   "metadata": {},
   "source": [
    "### 4. 5-Fold Cross-Validation"
   ]
  },
  {
   "cell_type": "code",
   "execution_count": 5,
   "id": "a5549a2c-cf36-40a8-b7d9-2367dc1821c5",
   "metadata": {
    "scrolled": true
   },
   "outputs": [
    {
     "name": "stdout",
     "output_type": "stream",
     "text": [
      "\n",
      " Linear Regression 5-Fold Cross-Validation Results:\n",
      "🔹 RMSE: 170,105.79 ± 2,707.26\n",
      "🔹 MAE: 118,581.46 ± 626.43\n",
      "🔹 R²: 0.8436 ± 0.0018\n"
     ]
    }
   ],
   "source": [
    "cv = KFold(n_splits=5, shuffle=True, random_state=42)\n",
    "cv_rmse = -cross_val_score(lr_model, X_train, y_train, scoring='neg_root_mean_squared_error', cv=cv)\n",
    "cv_mae = -cross_val_score(lr_model, X_train, y_train, scoring='neg_mean_absolute_error', cv=cv)\n",
    "cv_r2 = cross_val_score(lr_model, X_train, y_train, scoring='r2', cv=cv)\n",
    "\n",
    "print(\"\\n Linear Regression 5-Fold Cross-Validation Results:\")\n",
    "print(f\"🔹 RMSE: {cv_rmse.mean():,.2f} ± {cv_rmse.std():,.2f}\")\n",
    "print(f\"🔹 MAE: {cv_mae.mean():,.2f} ± {cv_mae.std():,.2f}\")\n",
    "print(f\"🔹 R²: {cv_r2.mean():.4f} ± {cv_r2.std():.4f}\")"
   ]
  },
  {
   "cell_type": "markdown",
   "id": "b3d198de-082d-435c-b30a-c1c74cd8439a",
   "metadata": {},
   "source": [
    "### 5. Fit on full training data"
   ]
  },
  {
   "cell_type": "code",
   "execution_count": 6,
   "id": "3b342cd3-f36b-4a26-8796-4c5d725146a1",
   "metadata": {},
   "outputs": [],
   "source": [
    "lr_model.fit(X_train, y_train)\n",
    "y_pred = lr_model.predict(X_train)"
   ]
  }
 ],
 "metadata": {
  "kernelspec": {
   "display_name": "Python 3 (ipykernel)",
   "language": "python",
   "name": "python3"
  },
  "language_info": {
   "codemirror_mode": {
    "name": "ipython",
    "version": 3
   },
   "file_extension": ".py",
   "mimetype": "text/x-python",
   "name": "python",
   "nbconvert_exporter": "python",
   "pygments_lexer": "ipython3",
   "version": "3.12.7"
  }
 },
 "nbformat": 4,
 "nbformat_minor": 5
}
